{
 "cells": [
  {
   "cell_type": "markdown",
   "metadata": {},
   "source": [
    "# Kryptografia asymetryczna - kryptosystem RSA \n",
    "Kryptografia asymetryczna charakteryzuje się wykorzystaniem **pary kluczy publiczny-prywatny** (stąd nazwa kryptografia z kluczem publicznym). Klucz publiczny może być swobodnie dystrybuowany otwartym kanałem i służy do szyfrowania (a także do weryfikowania podpisu). Klucz prywatny musi być utrzymywany w tajności i służy do deszyfrowania (lub tworzenia podpisu). \n",
    "\n",
    "Chronologicznie pierwszym kryptosystemem asymetrycznym był protokół wymiany kluczu Diffiego-Hellmana-Merkla. Służy on bezpiecznej wymiany danych, które mogą być wykorzystane jako tajne klucze kryptograficzne lub mogą być użyte do wyprodukowania kluczy. \n",
    "\n",
    "Najbardziej znanym kryptosystem z kluczem publicznym jest RSA (nazwa pochodzi od wynalazów: Rivest, Shamir i Adlemann). RSA umożliwia szyfrowanie danych jak również realizację podpisu cyfrowego. Bezpieczeństwo RSA opiera się na obliczeniowej trudności rozwiązania **problemu faktoryzacji liczb całkowitych złożonych**. "
   ]
  },
  {
   "cell_type": "code",
   "execution_count": 1,
   "metadata": {},
   "outputs": [],
   "source": [
    "## Funkcje pomocnicze \n",
    "def gcd(a, b):\n",
    "    # GCD - Greatest Common Divisor, Największy wspólny dzielnik \n",
    "    while a != 0:\n",
    "        a, b = b % a, a\n",
    "    return b\n",
    "\n",
    "def findModInverse(a, m):\n",
    "    # Zwraca liczbę x odwrotną do a ciele skończonym modulo m \n",
    "    # czyli (a*x) % m =1 \n",
    "\n",
    "    if gcd(a, m) != 1:\n",
    "        return None #a i m muszą być względnie pierwsze aby istniał element odwrotny \n",
    "\n",
    "    # Rozszerzony algorytm Euklidesa \n",
    "    u1, u2, u3 = 1, 0, a\n",
    "    v1, v2, v3 = 0, 1, m\n",
    "    while v3 != 0:\n",
    "        q = u3 // v3 # // operator dzielenie całkowitoliczbowego \n",
    "        v1, v2, v3, u1, u2, u3 = (u1 - q * v1), (u2 - q * v2), (u3 - q * v3), v1, v2, v3\n",
    "    return u1 % m"
   ]
  },
  {
   "cell_type": "markdown",
   "metadata": {},
   "source": [
    "## Generowanie kluczy w kryptosystemie RSA\n",
    "\n",
    "### 1. Losujemy dwie duże liczby pierwsze \n",
    "Potrzebujemy dwóch liczb pierwszych o naprawdę dużych rozmiarach - 2048 bitów obecnie uważa się niezbyt bezpieczny wybór. 4096 bitów jest z kolei wielkością nieco kłopotliwą w użytkowaniu. \n",
    "#### Skąd wziąć liczbę pierwszą? \n",
    "**Wylosować i sprawdzić czy jest pierwsza!**\n",
    "\n",
    "\n",
    "Test probabilistyczny, np. Rabina-Millera. "
   ]
  },
  {
   "cell_type": "code",
   "execution_count": 3,
   "metadata": {},
   "outputs": [
    {
     "data": {
      "text/plain": [
       "True"
      ]
     },
     "execution_count": 3,
     "metadata": {},
     "output_type": "execute_result"
    }
   ],
   "source": [
    "###### Test pierwszości Rabina-Millera\n",
    "import random\n",
    "\n",
    "def rabinMiller(num):\n",
    "    d = num - 1    ##obliczamy wartości d i sa\n",
    "    s = 0\n",
    "    while d % 2 == 0:   ##usuwamy z num-1 dzielniki 2 zliczając je w s\n",
    "        d = d // 2\n",
    "        s += 1\n",
    "\n",
    "    for trials in range(6):   ## wykonujemy n testów R-B \n",
    "        x = random.randrange(2, num - 1)  ##losujemy baze x\n",
    "        a = pow(x, d, num)   ### pierwszy wyraz ciągu\n",
    "        if (a != 1) and (a != num-1): ## jeśli a nie spełnia warunków losujemy innego świadka\n",
    "            i = 1\n",
    "            while (i < s) and (a != (num - 1)): #generujemy ciąg R-M\n",
    "                a = (a ** 2) % num   ## obliczamy kolejne wyrazy ciągu R-M: b^d, b^2d, b^4d\n",
    "                if(a==1):          ## tylko ostatni wyraz może mieć wartość 1! skończyliśmy za wcześnie\n",
    "                    return False ##To nie jest liczba pierwsza lub silnie pseudopierwsza\n",
    "                i+=1\n",
    "            if(a!=num-1):  ##przedostatni wyraz musi mieć wartość num-1    \n",
    "                return False  ##To nie jest liczba pierwsza lub silnie pseudopierwsza                \n",
    "    ### jeśli wykonaliśmy n testów i żaden nie zakończył się False \n",
    "    return True\n",
    "\n",
    "def isPrime(num):\n",
    "    if (num <= 2):\n",
    "        return False # oczywista oczywistość \n",
    "    #opcjonalne można sprawdzić czy małe liczby pierwsze nie są czynnikami badanej liczby   \n",
    "    return rabinMiller(num)\n",
    "\n",
    "\n",
    "isPrime(65537)"
   ]
  },
  {
   "cell_type": "markdown",
   "metadata": {},
   "source": [
    "## Zadanie\n",
    "1. Napisz funkcję generującą liczbę pierwszą o określonej długości w bitach. "
   ]
  },
  {
   "cell_type": "code",
   "execution_count": 52,
   "metadata": {},
   "outputs": [],
   "source": [
    "def generatePrime(keysize):\n",
    "    while True:\n",
    "        num = random.randrange(2 ** (keysize-1), 2 ** (keysize))\n",
    "        if isPrime(num):\n",
    "            return num"
   ]
  },
  {
   "cell_type": "markdown",
   "metadata": {},
   "source": [
    "## Zastanów się \n",
    "1. Znajdź zestawienie liczb silnie pseudopierwszych i sprawdź działanie (pojedynczego!) testy R-M dla takich liczb\n",
    "2. Ile testów R-M należy przeprowadzić aby osiągnąć bezpieczny poziom pewności testu"
   ]
  },
  {
   "cell_type": "markdown",
   "metadata": {},
   "source": [
    "### 2. Obliczamy składniki kluczy \n",
    "1. Wybieramy dwie duże liczby pierwsze $p$ i $q$\n",
    "2. Pierwszym składnikiem klucza jest moduł $n$ $n=p \\times q$ \n",
    "3. Poszukujemy wykładnika publicznego $e$, który jest względnie pierwszy z $(p-1)\\cdot (q-1)$ (czasami używane jest w miejscu pojęcie tocjentu lub funkcji Eulera: $\\phi(n) = \\phi(p)\\cdot \\phi(q) = (p − 1)·(q − 1)$)\n",
    "4. Poszukujemy wykładnika prywatnego $d$, które jest odwrotnością $e\\ (mod\\ (p-1)\\cdot (q-1))$: $de \\equiv 1  (mod\\ (p-1)\\cdot (q-1))$\n",
    "5. Kluczem publiczny jest para $(n, e)$, kluczem prywatnym jest para $(n, d)$."
   ]
  },
  {
   "cell_type": "markdown",
   "metadata": {},
   "source": [
    "## Zadanie \n",
    "\n",
    "1. Napisz funkcję generującą klucze RSA o ustalonym rozmiarze"
   ]
  },
  {
   "cell_type": "code",
   "execution_count": 53,
   "metadata": {},
   "outputs": [
    {
     "name": "stdout",
     "output_type": "stream",
     "text": [
      "Generujemy klucze publiczny i prywatny\n"
     ]
    },
    {
     "data": {
      "text/plain": [
       "((39913, 9943), (39913, 13319))"
      ]
     },
     "execution_count": 53,
     "metadata": {},
     "output_type": "execute_result"
    }
   ],
   "source": [
    "import random, sys, os\n",
    "\n",
    "def generateKey(keySize):\n",
    "    p, q = generatePrime(keySize//2), generatePrime(keySize//2)\n",
    "    n = p * q\n",
    "    \n",
    "    e = random.randrange(3, (p-1)*(q-1))\n",
    "    while gcd(e, (p-1)*(q-1)) != 1:\n",
    "        e = random.randrange(3, (p-1)*(q-1))\n",
    "    \n",
    "    d = findModInverse(e, (p-1)*(q-1))\n",
    "    \n",
    "    publicKey, privateKey = (n, e), (n, d)\n",
    "    \n",
    "    return (publicKey, privateKey)\n",
    "\n",
    "print('Generujemy klucze publiczny i prywatny')\n",
    "generateKey(16)"
   ]
  },
  {
   "cell_type": "markdown",
   "metadata": {},
   "source": [
    "## Zadanie \n",
    "\n",
    "Napisz funkcje implementujące szyfrowanie i deszyfrowanie RSA (tzw. podręcznikowe)\n",
    "\n",
    "### Szyfrowanie RSA \n",
    "Operacja szyfrowania: $c=m^e (mod\\ n)$"
   ]
  },
  {
   "cell_type": "code",
   "execution_count": 79,
   "metadata": {},
   "outputs": [],
   "source": [
    "def encrypt(message, modulus, exp):\n",
    "    message_encrypted = [pow(ord(letter), exp, modulus) for letter in message]\n",
    "  \n",
    "    return message_encrypted"
   ]
  },
  {
   "cell_type": "markdown",
   "metadata": {},
   "source": [
    "### Deszyfrowanie RSA \n",
    "Operacja szyfrowanie $m = c^d (mod\\ n)$"
   ]
  },
  {
   "cell_type": "code",
   "execution_count": 82,
   "metadata": {},
   "outputs": [
    {
     "name": "stdout",
     "output_type": "stream",
     "text": [
      "[111742127251629144831262473955993415636, 31924255309915791996209620481074010968, 15859408743442626038097177748395495329, 138973848446068559702294295420382616768, 155365603701992794625879425400144337101, 15859408743442626038097177748395495329, 138973848446068559702294295420382616768, 111742127251629144831262473955993415636, 111742127251629144831262473955993415636, 14112691763162774837039036964724583283, 73669561273209843915679647670452032940, 138973848446068559702294295420382616768]\n",
      "some message\n"
     ]
    }
   ],
   "source": [
    "def decrypt(message_encrypted, modulus, exp):\n",
    "    message_ascii = [chr(pow(num, exp, modulus)) for num in message_encrypted]\n",
    "  \n",
    "    return ('').join(message_ascii)\n",
    "\n",
    "message = \"some message\"\n",
    "public, private = generateKey(128)\n",
    "\n",
    "cipher = encrypt(message, public[0], public[1])\n",
    "print(cipher)\n",
    "\n",
    "message = decrypt(cipher, private[0], private[1])\n",
    "print(message)"
   ]
  },
  {
   "cell_type": "markdown",
   "metadata": {},
   "source": [
    "## Zastanów się\n",
    "1. Sprawdź działanie powyższej implementacji dla różnych wielkości klucza (podawane podczas generowania kluczy). \n",
    "2. Poszukaj informacji o trybie podręcznikowym RSA (*textbook RSA encryption*). Na czym polega? Jakie są jego wady i zalety? \n",
    "\n",
    "\n",
    "## Zadanie \n",
    "Zademonstruj deformowalność podręcznikowego szyfrowania RSA"
   ]
  },
  {
   "cell_type": "code",
   "execution_count": null,
   "metadata": {},
   "outputs": [],
   "source": [
    "\n",
    "\n",
    "\n",
    "    "
   ]
  }
 ],
 "metadata": {
  "kernelspec": {
   "display_name": "Python 3",
   "language": "python",
   "name": "python3"
  },
  "language_info": {
   "codemirror_mode": {
    "name": "ipython",
    "version": 3
   },
   "file_extension": ".py",
   "mimetype": "text/x-python",
   "name": "python",
   "nbconvert_exporter": "python",
   "pygments_lexer": "ipython3",
   "version": "3.7.6"
  }
 },
 "nbformat": 4,
 "nbformat_minor": 2
}
