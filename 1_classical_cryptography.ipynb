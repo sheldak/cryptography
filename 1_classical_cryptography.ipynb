{
 "cells": [
  {
   "cell_type": "markdown",
   "metadata": {},
   "source": [
    "# Kryptografia klasyczna (od starożytności do czasów współczesnych)\n",
    "### Literatura:\n",
    "1. Księga szyfrów, Simon Singh, Świat książki, 2001\n",
    "2. Łamacze kodów, David Kahn, WNT, 2004"
   ]
  },
  {
   "cell_type": "markdown",
   "metadata": {},
   "source": [
    "## Szyfry Cezara\n",
    "--------------\n",
    "Szyfr Cezara oczywiście nie zawdzięcza swego istnienia Juliuszowi Cezarowi. Został przezeń jedynie wspomniany w pamiętnikach JC o wojnach galijskich. Prawdopodobnie była to dobrze znana metoda w tym czasie.\n",
    "\n",
    "### Szyfr monoalfabetyczny: \n",
    "_danemu symbolowi alfabetu jawnego odpowiada dokładnie jeden i ten sam symbol alfabetu tajnego._"
   ]
  },
  {
   "cell_type": "code",
   "execution_count": 10,
   "metadata": {},
   "outputs": [],
   "source": [
    "# Alfabet jawny i szyfrowy \n",
    "ALPHABETS = ['a','b', 'c', 'd', 'e', 'f', 'g', 'h', 'i', 'j', 'k', 'l', 'm', 'n', 'o', 'p',\n",
    "            'q', 'r', 's', 't', 'u', 'v', 'w', 'x', 'y', 'z']\n",
    "\n",
    "ALPHABET_SIZE = len(ALPHABETS) # 26"
   ]
  },
  {
   "cell_type": "code",
   "execution_count": 11,
   "metadata": {},
   "outputs": [
    {
     "name": "stdout",
     "output_type": "stream",
     "text": [
      "Tekst jawny:  Zorro fly zealotry zipper\n",
      "Szyfrogram:  odggd uan otpadign oxeetg\n",
      "Odszyfrowana wiadomość:  zorro fly zealotry zipper\n"
     ]
    }
   ],
   "source": [
    "def caesar_encrypt(plaintext: str, key: int):\n",
    "    \"\"\"\n",
    "    plaintext -- tekst do zaszyfrowania\n",
    "    key -- przesunięcie permutacji czyli klucz szyfrowania\n",
    "    \"\"\"\n",
    "    normalized = plaintext.lower()\n",
    "    ciphertext = \"\"\n",
    "    for char in normalized:\n",
    "        # szyfruj jedynie znane znaki, zachowaj spacje\n",
    "        if char in ALPHABETS:\n",
    "            ciphertext += ALPHABETS[(ALPHABETS.index(char) + key) % ALPHABET_SIZE]\n",
    "        else:\n",
    "            ciphertext += char\n",
    "    return ciphertext\n",
    "\n",
    "def caesar_decrypt(ciphertext: str, key: int):\n",
    "    plaintext = \"\"\n",
    "    for char in ciphertext:\n",
    "        if char in ALPHABETS:\n",
    "            plaintext += ALPHABETS[(ALPHABETS.index(char) - key) % ALPHABET_SIZE]\n",
    "        else:\n",
    "            plaintext += char\n",
    "    return plaintext\n",
    "\n",
    "plaintext = \"Zorro fly zealotry zipper\"\n",
    "ciphertext = \"\"\n",
    "key = 15\n",
    "\n",
    "print(\"Tekst jawny: \", plaintext)\n",
    "ciphertext = caesar_encrypt(plaintext, key)\n",
    "print(\"Szyfrogram: \",  ciphertext)\n",
    "\n",
    "decodedtext = caesar_decrypt(ciphertext, key)\n",
    "print(\"Odszyfrowana wiadomość: \",  decodedtext)"
   ]
  },
  {
   "cell_type": "markdown",
   "metadata": {},
   "source": [
    "## Kryptoanaliza szyfrów monoalfabetycznych\n",
    "\n",
    "Współcześnie kryptoanaliza szyfru Cezara jest trywialna. Można po prostu sprawdzić wszystkie 26 możliwych przesunięć. \n",
    "\n",
    "Szyfry monoalfabetyczne nie są także odporne na __kryptoanalizę statystyczną__. Znając rozkład częstości liter w tekstach napisanych w danym języku możemy odgadnąć przesunięcie obserwując minima i maxima w histogramach. \n",
    "\n",
    "W zasadzie kluczową sprawą w obu przypadkach jest znajomość języka, a w gruncie rzeczy alfabetu."
   ]
  },
  {
   "cell_type": "markdown",
   "metadata": {},
   "source": [
    "# Problem\n",
    "1. Narysuj rozkład częstości występowania liter w języku angielskim (kod rysowania histogramu poniżej)"
   ]
  },
  {
   "cell_type": "code",
   "execution_count": 12,
   "metadata": {},
   "outputs": [
    {
     "data": {
      "image/png": "[encoded data removed]",
      "text/plain": [
       "<Figure size 1080x648 with 1 Axes>"
      ]
     },
     "metadata": {
      "needs_background": "light"
     },
     "output_type": "display_data"
    }
   ],
   "source": [
    "from matplotlib import pyplot as plt\n",
    "import numpy as np\n",
    "\n",
    "def plot_frequency(letters, frequency, title, xtitle):\n",
    "    labels = np.arange(len(letters))\n",
    "    plt.figure(figsize=(15,9))\n",
    "    plt.bar(labels, frequency, alpha=0.5, edgecolor=\"green\")\n",
    "    plt.title(title);\n",
    "    plt.xlabel(xtitle)\n",
    "    plt.xticks(np.arange(len(letters)), letters)\n",
    "    plt.ylabel('Częstość występowania')\n",
    "    plt.show()\n",
    "    \n",
    "frequency = [0.080, 0.015, 0.030, 0.040, 0.130, 0.020, 0.015, 0.060, 0.065, 0.005, 0.005, 0.035, 0.030, 0.070, 0.080, 0.020, 0.002, 0.065, 0.060, 0.090, 0.030, 0.010, 0.015, 0.005, 0.020, 0.002]\n",
    "plot_frequency(ALPHABETS, frequency, \"Język angielski\", \"Alfabet\")"
   ]
  },
  {
   "cell_type": "markdown",
   "metadata": {},
   "source": [
    "2. Dokonaj analizy częstości występowania liter w tekście jawnym i szyfrogramie (szyfr Cezara z dowolnym kluczem) dla tekstu w poniższym fragmencie kodu. Wyświetl wyniki podobnie jak powyżej.  "
   ]
  },
  {
   "cell_type": "code",
   "execution_count": 13,
   "metadata": {
    "scrolled": true
   },
   "outputs": [],
   "source": [
    "import numpy as np\n",
    "from matplotlib import pyplot as plt\n",
    "\n",
    "plaintext = \"TobeornottobethatisthequestionWhethertisNoblerinthemindtosufferTheSlingsandArrowsofoutrageousFortuneOrtotakeArmsagainstaSeaoftroublesAndbyopposingendthem\"\n",
    "plaintext = plaintext.lower()\n",
    "\n",
    "Alphabet = [\n",
    "    'a','b','c','d','e','f','g','h','i','j','k','l','m',\n",
    "    'n','o','p','q','r','s','t','u','v','w','x','y','z'\n",
    "]\n",
    "\n",
    "# policz częstość i wyświetl rozkłady \n",
    "\n",
    "key = 5\n",
    "ciphertext = caesar_encrypt(plaintext, key)\n",
    "\n",
    "def get_occurrences(text):\n",
    "    occurrences = dict()\n",
    "    \n",
    "    for letter in Alphabet:\n",
    "        occurrences[letter] = 0\n",
    "    \n",
    "    for char in text:\n",
    "        if char in occurrences:\n",
    "            occurrences[char] += 1\n",
    "            \n",
    "    occurrences_as_list = sorted(list(occurrences.items()), key=lambda pair: pair[0])\n",
    "        \n",
    "    return list(map(lambda pair: pair[1], occurrences_as_list)) "
   ]
  },
  {
   "cell_type": "code",
   "execution_count": 14,
   "metadata": {},
   "outputs": [
    {
     "data": {
      "image/png": "[encoded data removed]",
      "text/plain": [
       "<Figure size 1080x648 with 1 Axes>"
      ]
     },
     "metadata": {
      "needs_background": "light"
     },
     "output_type": "display_data"
    }
   ],
   "source": [
    "occurrences = get_occurrences(plaintext)\n",
    "\n",
    "plot_frequency(ALPHABETS, occurrences, \"Tekst jawny\", \"Alfabet\")"
   ]
  },
  {
   "cell_type": "code",
   "execution_count": 15,
   "metadata": {},
   "outputs": [
    {
     "data": {
      "image/png": "[encoded data removed]",
      "text/plain": [
       "<Figure size 1080x648 with 1 Axes>"
      ]
     },
     "metadata": {
      "needs_background": "light"
     },
     "output_type": "display_data"
    }
   ],
   "source": [
    "occurrences = get_occurrences(ciphertext)\n",
    "\n",
    "plot_frequency(ALPHABETS, occurrences, \"Tekst zaszyfrowany\", \"Alfabet\")"
   ]
  },
  {
   "cell_type": "markdown",
   "metadata": {},
   "source": [
    "#### Przykład zautomatyzowanej kryptoanalizy języka tekstowego. "
   ]
  },
  {
   "cell_type": "code",
   "execution_count": 16,
   "metadata": {
    "scrolled": true
   },
   "outputs": [
    {
     "name": "stdout",
     "output_type": "stream",
     "text": [
      "Szyfrogram: oxeetg uaxvwi\n",
      "Próba klucza:  4  .... ktaapc qwtrse\n",
      "Próba klucza:  0  .... oxeetg uaxvwi\n",
      "Próba klucza:  19  .... vellan bhecdp\n",
      "Próba klucza:  15  .... zipper flight\n",
      "\n",
      " Odszyfrowany tekst:  zipper flight\n"
     ]
    },
    {
     "name": "stderr",
     "output_type": "stream",
     "text": [
      "[nltk_data] Downloading package words to /home/sheldak/nltk_data...\n",
      "[nltk_data]   Package words is already up-to-date!\n"
     ]
    },
    {
     "data": {
      "text/plain": [
       "'zipper flight'"
      ]
     },
     "execution_count": 16,
     "metadata": {},
     "output_type": "execute_result"
    }
   ],
   "source": [
    "import nltk\n",
    "nltk.download('words')\n",
    "from nltk.corpus import words\n",
    "\n",
    "ENGLISH_WORDS = words.words()\n",
    "ENGLISH_FREQUENCY_PROB = {'a': 0.08, 'b': 0.015, 'c': 0.03, 'd': 0.04, 'e': 0.13, 'f': 0.02,\n",
    "                          'g': 0.015, 'h': 0.06, 'i': 0.065, 'j': 0.005, 'k': 0.005, 'l': 0.035,\n",
    "                          'm': 0.03, 'n': 0.07, 'o': 0.08, 'p': 0.02, 'q': 0.002, 'r': 0.065,\n",
    "                          's': 0.06, 't': 0.09, 'u': 0.03, 'v': 0.01, 'w': 0.015, 'x': 0.005,\n",
    "                          'y': 0.02, 'z': 0.002}\n",
    "\n",
    "\n",
    "def crack(ciphertext: str):\n",
    "    only_alphabets = [char for char in ciphertext if char in ALPHABETS] # tylko znane litery\n",
    "    unique = list(set(only_alphabets)) # lista liter w szyfrogramie\n",
    "\n",
    "    # częstość liter w tekście \n",
    "    ciphertext_prob = {c: ciphertext.count(c) / float(len(only_alphabets)) for c in unique}\n",
    "\n",
    "    psi = {k: 0.0 for k in range(0, 26)} # mapowanie z potencjalnego klucza na jego stopień dopasowania\n",
    "    for key_attempt in range(0, 26): #oblicz dopasowanie\n",
    "        for unique_char in unique:\n",
    "            maybe_decoded_letter = caesar_decrypt(unique_char, key_attempt)\n",
    "            psi[key_attempt] += ciphertext_prob[unique_char] * ENGLISH_FREQUENCY_PROB[maybe_decoded_letter]\n",
    "\n",
    "    # sortuj od najlepszego dopasowania\n",
    "    sorted_psi = sorted(psi.items(), key=lambda key_match: key_match[1], reverse=True)\n",
    "\n",
    "    for key, _ in sorted_psi:\n",
    "        decoded_string = caesar_decrypt(ciphertext, key)\n",
    "\n",
    "        print(\"Próba klucza: \", key, \" ....\", decoded_string)\n",
    "\n",
    "        decoded_words = decoded_string.split()\n",
    "        # czy szyfrowanie ma sens\n",
    "        if any(decoded_word in ENGLISH_WORDS for decoded_word in decoded_words):\n",
    "            print(\"\\n\", \"Odszyfrowany tekst: \", decoded_string)\n",
    "            return decoded_string\n",
    "    else:\n",
    "        print(\"\\n\", \"Żaden klucz nie przyniósł znanego słowa\")\n",
    "        return None\n",
    "\n",
    "ciphertext = \"oxeetg uaxvwi\" # zakomentuj tę linię bo używać szyfrogramu z poprzedniego zadania\n",
    "\n",
    "print(\"Szyfrogram:\", ciphertext)\n",
    "crack(ciphertext)"
   ]
  },
  {
   "cell_type": "markdown",
   "metadata": {},
   "source": [
    "## Podsumowanie \n",
    "Główną słabością szyfrów monoalfabetycznych jest stałość przekształcenia, dzięki czemu możliwe jest łatwe zaobserwowanie regularności.\n",
    "\n",
    "Rozwiązaniem może być zmiana alfabetów w trakcie szyfrowania. Dla uproszczenia wystarczy zmieniać jedynie porządek liter. \n",
    "\n",
    "# Problem\n",
    "1. Napisać program, który zmienia alfabet szyfrowania po każdej literze.\n",
    "_Co będzie potrzebne oprócz tekst jawnego?_\n"
   ]
  },
  {
   "cell_type": "code",
   "execution_count": 17,
   "metadata": {},
   "outputs": [
    {
     "name": "stdout",
     "output_type": "stream",
     "text": [
      "Text:      Kryptografia\n",
      "Encrypted: uvwzxmqvypmy\n",
      "Decrypted: kryptografia\n"
     ]
    }
   ],
   "source": [
    "# del ciphertext, plaintext\n",
    "\n",
    "Alphabet = [\n",
    "    'a','b','c','d','e','f','g','h','i','j','k','l','m',\n",
    "    'n','o','p','q','r','s','t','u','v','w','x','y','z'\n",
    "]\n",
    "\n",
    "def changing_alphabet(plaintext: str, key: str): # w razie potrzeby dodaj inne argumenty \n",
    "    plaintext = plaintext.lower()\n",
    "    ciphertext = \"\"\n",
    "    \n",
    "    for i in range(len(plaintext)):\n",
    "        char = plaintext[i]\n",
    "        if char in Alphabet:\n",
    "            key_index = Alphabet.index(key[i % len(key)])\n",
    "            \n",
    "            ciphertext += Alphabet[(Alphabet.index(char) + key_index) % len(Alphabet)]\n",
    "        else:\n",
    "            ciphertext += char\n",
    "\n",
    "    return ciphertext\n",
    "\n",
    "\n",
    "def changing_alphabet_decrypt(ciphertext: str, key: str):\n",
    "    plaintext = \"\"\n",
    "    \n",
    "    for i in range(len(ciphertext)):\n",
    "        char = ciphertext[i]\n",
    "        if char in Alphabet:\n",
    "            key_index = Alphabet.index(key[i % len(key)])\n",
    "            \n",
    "            plaintext += Alphabet[(Alphabet.index(char) - key_index) % len(Alphabet)]\n",
    "        else:\n",
    "            plaintext += char\n",
    "\n",
    "    return plaintext\n",
    "    \n",
    "\n",
    "\n",
    "plaintext = \"Kryptografia\"\n",
    "key = \"key\"\n",
    "print(\"Text:      \" + plaintext)\n",
    "\n",
    "ciphertext = changing_alphabet(plaintext, key)\n",
    "print(\"Encrypted: \" + ciphertext)\n",
    "\n",
    "decrypted_text = changing_alphabet_decrypt(ciphertext, key)\n",
    "print(\"Decrypted: \" + decrypted_text)"
   ]
  },
  {
   "cell_type": "markdown",
   "metadata": {},
   "source": [
    "### Zastanów się:\n",
    "1. Sprawdź jak wygląda histogram szyfrogrami. \n",
    "2. Zastanów się jakie znaczenia ma długość klucza dla bezpieczeństwa szyfrowania.\n",
    "3. Czy powtarzanie klucza można wykorzystać dla potrzeb kryptoanalizy? \n",
    "4. Jaki klucz gwarantowałby bezpieczeństwo?\n",
    "5. Jaki rozkład częstości symboli szyfrogramu nie ujawni żadnych przydatnych danych kryptoanalitykowi? \n",
    "\n",
    "### Szyfr polialfabetyczny \n",
    "_Szyfr używający wielu alfabetów szyfrowych. W trakcie szyfrowania te same litery w tekście jawnym_\n",
    "\n",
    "### Szyfr doskonały (według Clouda Shannona):\n",
    "1. Jakie warunki musi spełniać szyfr-nie-do-złamania? "
   ]
  }
 ],
 "metadata": {
  "kernelspec": {
   "display_name": "Python 3",
   "language": "python",
   "name": "python3"
  },
  "language_info": {
   "codemirror_mode": {
    "name": "ipython",
    "version": 3
   },
   "file_extension": ".py",
   "mimetype": "text/x-python",
   "name": "python",
   "nbconvert_exporter": "python",
   "pygments_lexer": "ipython3",
   "version": "3.7.6"
  }
 },
 "nbformat": 4,
 "nbformat_minor": 1
}
